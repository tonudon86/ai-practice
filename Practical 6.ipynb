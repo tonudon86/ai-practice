{
 "cells": [
  {
   "cell_type": "code",
   "execution_count": 20,
   "id": "75cd1a48",
   "metadata": {},
   "outputs": [],
   "source": [
    "import numpy as np"
   ]
  },
  {
   "cell_type": "code",
   "execution_count": 21,
   "id": "24de8602",
   "metadata": {},
   "outputs": [],
   "source": [
    "def unitStep(v):\n",
    "    if v>0:\n",
    "        return 1\n",
    "    else :\n",
    "        return 0\n",
    "    \n",
    "    "
   ]
  },
  {
   "cell_type": "code",
   "execution_count": 22,
   "id": "80534352",
   "metadata": {},
   "outputs": [],
   "source": [
    "def perceptronModel(x,w,b):\n",
    "    v=np.dot(w,x)+b\n",
    "    y=unitStep(v)\n",
    "    return y"
   ]
  },
  {
   "cell_type": "code",
   "execution_count": 23,
   "id": "ffe91ed2",
   "metadata": {},
   "outputs": [],
   "source": [
    "def or_LogicFunction(x):\n",
    "    w=np.array([1,1])\n",
    "    b=-0.5\n",
    "    return perceptronModel(x,w,b)"
   ]
  },
  {
   "cell_type": "code",
   "execution_count": 24,
   "id": "5cc73b6b",
   "metadata": {},
   "outputs": [],
   "source": [
    "def and_LogicFunction(x):\n",
    "    w=np.array([1,1])\n",
    "    b=-1.5\n",
    "    return perceptronModel(x,w,b)\n",
    "    \n",
    "    "
   ]
  },
  {
   "cell_type": "code",
   "execution_count": 25,
   "id": "ade6e867",
   "metadata": {
    "scrolled": true
   },
   "outputs": [
    {
     "name": "stdout",
     "output_type": "stream",
     "text": [
      "OR(0,0)=0\n",
      "OR(0,1)=1\n",
      "OR(1,0)=1\n",
      "OR(1,1)=1\n",
      "AND(0,0)=0\n",
      "AND(0,1)=0\n",
      "AND(1,0)=0\n",
      "AND(1,1)=1\n"
     ]
    }
   ],
   "source": [
    "test1=np.array([0,0])\n",
    "test2=np.array([0,1])\n",
    "test3=np.array([1,0])\n",
    "test4=np.array([1,1])\n",
    "print(\"OR({},{})={}\".format(0,0,or_LogicFunction(test1)))\n",
    "print(\"OR({},{})={}\".format(0,1,or_LogicFunction(test2)))\n",
    "print(\"OR({},{})={}\".format(1,0,or_LogicFunction(test3)))\n",
    "print(\"OR({},{})={}\".format(1,1,or_LogicFunction(test4)))\n",
    " \n",
    "print(\"AND({},{})={}\".format(0,0,and_LogicFunction(test1)))\n",
    "print(\"AND({},{})={}\".format(0,1,and_LogicFunction(test2)))\n",
    "print(\"AND({},{})={}\".format(1,0,and_LogicFunction(test3)))\n",
    "print(\"AND({},{})={}\".format(1,1,and_LogicFunction(test4)))"
   ]
  },
  {
   "cell_type": "code",
   "execution_count": 14,
   "id": "9eb19345",
   "metadata": {},
   "outputs": [
    {
     "name": "stdout",
     "output_type": "stream",
     "text": [
      "1\n"
     ]
    }
   ],
   "source": [
    " "
   ]
  },
  {
   "cell_type": "code",
   "execution_count": null,
   "id": "5014389c",
   "metadata": {},
   "outputs": [],
   "source": []
  }
 ],
 "metadata": {
  "kernelspec": {
   "display_name": "Python 3.10.6 64-bit",
   "language": "python",
   "name": "python3"
  },
  "language_info": {
   "codemirror_mode": {
    "name": "ipython",
    "version": 3
   },
   "file_extension": ".py",
   "mimetype": "text/x-python",
   "name": "python",
   "nbconvert_exporter": "python",
   "pygments_lexer": "ipython3",
   "version": "3.10.6"
  },
  "vscode": {
   "interpreter": {
    "hash": "aee8b7b246df8f9039afb4144a1f6fd8d2ca17a180786b69acc140d282b71a49"
   }
  }
 },
 "nbformat": 4,
 "nbformat_minor": 5
}
