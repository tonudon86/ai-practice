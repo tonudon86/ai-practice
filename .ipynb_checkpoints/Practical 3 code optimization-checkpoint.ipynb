{
 "cells": [
  {
   "cell_type": "code",
   "execution_count": 1,
   "id": "dc3e55d4",
   "metadata": {},
   "outputs": [],
   "source": [
    "### Practical 2"
   ]
  },
  {
   "cell_type": "code",
   "execution_count": 45,
   "id": "9d9a3c09",
   "metadata": {},
   "outputs": [],
   "source": [
    "class Node:\n",
    "    \"declare instance variable\"\n",
    "    def __declare__instance_variables(this) -> None:\n",
    "        this.parent:Node=None\n",
    "        this.root:Node=None\n",
    "        this.__children:list =[]\n",
    "    def __init__(this,child=None,children:list=None,value:float=None,tag : str = None):\n",
    "        this.__declare__instance_variables()\n",
    "        this.tag = tag\n",
    "        this.value = value\n",
    "        if(child !=None):\n",
    "            pass\n",
    "        if (children !=None):\n",
    "            pass\n",
    "    def add(this,child):\n",
    "        assert child != None\n",
    "        if (this.__children ==None):\n",
    "            this.__children=[]\n",
    "        child.parent=this\n",
    "        child.root=this.get_root()\n",
    "        this.__children.append(child)\n",
    "    def add_children(this,children:list)->None:\n",
    "        assert children != None\n",
    "        if(len(children)==0):\n",
    "            return\n",
    "        if (this.__children ==None):\n",
    "            this.__children=[]\n",
    "        for ele in children:\n",
    "            element.parent=this\n",
    "            element.root=this.get_root()\n",
    "            this.__children.apend(element)\n",
    "    def get_root(this):\n",
    "        if(this.is_root()):\n",
    "            return this\n",
    "        else :\n",
    "            return this.parent.root\n",
    "    \n",
    "    def is_root(this)->bool:\n",
    "        return this.parent==None\n",
    "    \n",
    "\n",
    "    def get_children(this)->list:\n",
    "        return this.__children\n",
    "        \n",
    "### below fn is extra code not need for this algorithem\n",
    "    def is_leaf(this)->bool:\n",
    "        if(this.__children==None):return True\n",
    "        return this.is_empty()\n",
    "    \n",
    "    def is_empty(this):\n",
    "        return len(this.__children)==0\n",
    "    \n",
    "    def is_not_empty(this)->bool:\n",
    "        return not this.is_empty()\n",
    "    \n",
    "        \n",
    "        \n",
    "#         get depth\n",
    "    def get_depth(this)->int:\n",
    "        if(this.is_root()):return 0\n",
    "        return this.parent.get_depth() + 1\n",
    "#     get frist \n",
    "    def get_first (this):\n",
    "        if(this.is_empty()): return None\n",
    "        return this.children[0]\n",
    "#     finding neighbours\n",
    "    def get_neighbours(this)->list:\n",
    "        if this.parent==None:\n",
    "            return [this]\n",
    "        children =this.parent.get_children()\n",
    "        if children==None : return []\n",
    "        return children\n",
    "    def get_children(this)->list:\n",
    "        return this.__children\n",
    "\n",
    "        "
   ]
  },
  {
   "cell_type": "code",
   "execution_count": 41,
   "id": "56e254bb",
   "metadata": {},
   "outputs": [],
   "source": [
    "def evaluate (node:Node):\n",
    "    if isinstance(node.value,float) or isinstance(node.value,int):\n",
    "        assert node.value !=None,\"Node must have Value\"\n",
    "        return node.value\n",
    "    elif isintance(node.value,str):\n",
    "        raise NotImplementedError\n",
    "        \n",
    "        "
   ]
  },
  {
   "cell_type": "markdown",
   "id": "2412d2ca",
   "metadata": {},
   "source": [
    "### function for algorithem\n"
   ]
  },
  {
   "cell_type": "code",
   "execution_count": 42,
   "id": "c937207b",
   "metadata": {},
   "outputs": [],
   "source": [
    "from math import inf\n",
    "def hill_climbing(start_node) -> Node:\n",
    "    current_node =start_node\n",
    "    best_value =-inf\n",
    "    best_node =None\n",
    "    while True:\n",
    "        current_value =evaluate(current_node)\n",
    "        if current_value >best_value:\n",
    "            best_node=current_node\n",
    "            best_value =current_value\n",
    "        else:\n",
    "            return best_node\n",
    "        children =current_node.get_children()\n",
    "        for child in children:\n",
    "            child_value=evaluate(child)\n",
    "            if child_value > best_value:\n",
    "                best_value=child_value\n",
    "                best_node=child\n",
    "            else: \n",
    "                return best_node\n",
    "            current_node=child\n",
    "    "
   ]
  },
  {
   "cell_type": "code",
   "execution_count": 43,
   "id": "d5e19f0b",
   "metadata": {},
   "outputs": [],
   "source": [
    "# implemented the above tree of nodes\n",
    "tree1: Node = Node(\n",
    "    value=10, tag='a',\n",
    "    children=[\n",
    "        Node(\n",
    "            value=10, tag='b',\n",
    "            children=[\n",
    "                Node(value=4, tag='d'),\n",
    "                Node(value=2, tag='c',\n",
    "                     child=Node(value=0, tag='h')\n",
    "                ),\n",
    "            ]\n",
    "        ),\n",
    "        Node(value=8, tag='j', \n",
    "            child=Node(value=0, tag='k')\n",
    "        ),\n",
    "        Node(value=7, tag='f',\n",
    "            children=[\n",
    "                Node(value=5, tag='e', \n",
    "                    child=Node(\n",
    "                        value=6, tag='i', \n",
    "                        child=Node(value=0, tag='k')\n",
    "                    )\n",
    "                ),\n",
    "                Node(value=3, tag='g')\n",
    "            ]\n",
    "        )\n",
    "    ]\n",
    ")"
   ]
  },
  {
   "cell_type": "code",
   "execution_count": 44,
   "id": "a87eed95",
   "metadata": {},
   "outputs": [
    {
     "name": "stdout",
     "output_type": "stream",
     "text": [
      "For Tree - 1\n",
      "Best solution is 10 with tag a\n"
     ]
    }
   ],
   "source": [
    "print('For Tree - 1')\n",
    "best_solution = hill_climbing(tree1)\n",
    "print(f\"Best solution is {best_solution.value} with tag {best_solution.tag}\")"
   ]
  },
  {
   "cell_type": "code",
   "execution_count": null,
   "id": "31fee753",
   "metadata": {},
   "outputs": [],
   "source": []
  }
 ],
 "metadata": {
  "kernelspec": {
   "display_name": "Python 3 (ipykernel)",
   "language": "python",
   "name": "python3"
  },
  "language_info": {
   "codemirror_mode": {
    "name": "ipython",
    "version": 3
   },
   "file_extension": ".py",
   "mimetype": "text/x-python",
   "name": "python",
   "nbconvert_exporter": "python",
   "pygments_lexer": "ipython3",
   "version": "3.10.6"
  }
 },
 "nbformat": 4,
 "nbformat_minor": 5
}
